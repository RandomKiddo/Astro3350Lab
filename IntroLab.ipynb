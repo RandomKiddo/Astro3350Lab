{
 "cells": [
  {
   "cell_type": "markdown",
   "id": "3e9ba244-586d-4e4d-ba7c-2872f0fc96a1",
   "metadata": {},
   "source": [
    "# Astronomy 3350\n",
    "## Lab 2\n",
    "#### September 11, 2025\n",
    "\n",
    "Team:\n",
    "- *Neil Ghugare*"
   ]
  },
  {
   "cell_type": "markdown",
   "id": "f2b955e0-b042-4702-bc51-183923e0dae0",
   "metadata": {},
   "source": [
    "This lab contains five parts:\n",
    "1. List names of team mebers, demonstrate header usage, and show how to use *italics*, **bold**, and `inline code` (done implicitly in this notebook).\n",
    "2. Demonstrate how to make bulleted or numbered lists (done in this cell).\n",
    "3. Use `print` statements to print strings.\n",
    "4. Compute the factorial of 10 and print it in scientific notation using formatted printing.\n",
    "5. Solve a given problem of choice. Chosen: confirm the orbital speed of the Earth around the Sun."
   ]
  },
  {
   "cell_type": "markdown",
   "id": "f840d9d4-d55d-430d-bd34-20ac9bccb4da",
   "metadata": {
    "tags": []
   },
   "source": [
    "#### Question 3\n",
    "**Use** a `print` statement to print a string:"
   ]
  },
  {
   "cell_type": "code",
   "execution_count": 1,
   "id": "1fbb0d7f-7850-4779-91e6-6fc75eb95c7e",
   "metadata": {
    "execution": {
     "iopub.execute_input": "2025-09-11T17:21:18.051510Z",
     "iopub.status.busy": "2025-09-11T17:21:18.050839Z",
     "iopub.status.idle": "2025-09-11T17:21:18.071290Z",
     "shell.execute_reply": "2025-09-11T17:21:18.069225Z",
     "shell.execute_reply.started": "2025-09-11T17:21:18.051330Z"
    }
   },
   "outputs": [
    {
     "name": "stdout",
     "output_type": "stream",
     "text": [
      "Hello, world!\n"
     ]
    }
   ],
   "source": [
    "print('Hello, world!')  # printing 'Hello, world!'."
   ]
  },
  {
   "cell_type": "markdown",
   "id": "efaf5976-d968-4117-8412-bbf06139a3cb",
   "metadata": {},
   "source": [
    "#### Question 4\n",
    "\n",
    "**Compute** the *factorial* of 10 and using string-formatting to print it:"
   ]
  },
  {
   "cell_type": "code",
   "execution_count": 2,
   "id": "e1a75df1-9004-43ef-b38c-2eb054be8556",
   "metadata": {
    "execution": {
     "iopub.execute_input": "2025-09-11T17:21:18.076098Z",
     "iopub.status.busy": "2025-09-11T17:21:18.075568Z",
     "iopub.status.idle": "2025-09-11T17:21:18.095136Z",
     "shell.execute_reply": "2025-09-11T17:21:18.092847Z",
     "shell.execute_reply.started": "2025-09-11T17:21:18.076047Z"
    },
    "tags": []
   },
   "outputs": [
    {
     "name": "stdout",
     "output_type": "stream",
     "text": [
      "The value of 10! in scientific notation is 3.63e+06.\n",
      "The value of 10! in scientific notation is 3.63e+06.\n"
     ]
    }
   ],
   "source": [
    "value = 10*9*8*7*6*5*4*3*2*1  # computing the factorial of 10.\n",
    "print(f'The value of 10! in scientific notation is {value:.2e}.')  # printing in scientific notation with two decimal places using f-string.\n",
    "print('The value of 10! in scientific notation is %.2e.' % value)  # this is the same as above, using a method provided in-class."
   ]
  },
  {
   "cell_type": "markdown",
   "id": "d2172b97-ed93-43c3-8b2e-86212aebe742",
   "metadata": {},
   "source": [
    "#### Question 5\n",
    "**Show** that the orbital speed of the Earth around the Sun is about $30\\ {\\rm km}\\ {\\rm s}^{-1}$:\n",
    "\n",
    "To do this, we set up a Newton's 2nd Law equation with Newton's Law of Gravitation, utilizing centripetal motion,\n",
    "$$\n",
    "F = -m \\frac{v^2}{r} = -G\\frac{mM}{r^2},\n",
    "$$\n",
    "where $m$ is the mass of the Earth, $M$ the mass of the Sun, $r$ the distance between the two, $G$ the gravitational constant, and $v$ is the orbital speed (the quantity we wish to calculate).\n",
    "\n",
    "Rearranging for the orbital speed and simplifying, the equation we wish to solve is\n",
    "$$\n",
    "v = \\sqrt{\\frac{GM}{r}}.\n",
    "$$\n",
    "\n",
    "Since we are discussing speed, we can assume the principal square root, and only consider the positive case for $v$."
   ]
  },
  {
   "cell_type": "code",
   "execution_count": 3,
   "id": "c2314135-cd40-4d46-8520-34c4e9728b0f",
   "metadata": {
    "execution": {
     "iopub.execute_input": "2025-09-11T17:21:18.097925Z",
     "iopub.status.busy": "2025-09-11T17:21:18.097334Z",
     "iopub.status.idle": "2025-09-11T17:21:18.106653Z",
     "shell.execute_reply": "2025-09-11T17:21:18.104285Z",
     "shell.execute_reply.started": "2025-09-11T17:21:18.097874Z"
    },
    "tags": []
   },
   "outputs": [],
   "source": [
    "# Define values, we don't need too much precision.\n",
    "\n",
    "G = 6.674e-11  # gravitational constant in MKS.\n",
    "M = 1.989e30  # mass of the Sun in kg.\n",
    "r = 1.496e11  # distance from the Earth to the Sun in m."
   ]
  },
  {
   "cell_type": "code",
   "execution_count": 4,
   "id": "61efeda7-e349-42ba-8896-89f2d16481fe",
   "metadata": {
    "execution": {
     "iopub.execute_input": "2025-09-11T17:21:18.109701Z",
     "iopub.status.busy": "2025-09-11T17:21:18.109079Z",
     "iopub.status.idle": "2025-09-11T17:21:18.129583Z",
     "shell.execute_reply": "2025-09-11T17:21:18.127522Z",
     "shell.execute_reply.started": "2025-09-11T17:21:18.109649Z"
    },
    "tags": []
   },
   "outputs": [
    {
     "name": "stdout",
     "output_type": "stream",
     "text": [
      "The orbital speed of the Earth around the Sun is ~29.79 km/s, or about 30 km/s.\n"
     ]
    }
   ],
   "source": [
    "v = (G*M/r)**(1/2)  # the velocity value in m/s.\n",
    "\n",
    "v /= 1000  # converts v from m/s to km/s. \n",
    "print(f'The orbital speed of the Earth around the Sun is ~{v:.2f} km/s, or about {round(v)} km/s.')"
   ]
  },
  {
   "cell_type": "markdown",
   "id": "ed1fc5fd-9686-4073-9beb-7e1e791d9738",
   "metadata": {},
   "source": [
    "So, we can see that the orbital speed of the Earth around the Sun, $v$, is approximately $30\\ {\\rm km}\\ {\\rm s}^{-1}$. "
   ]
  }
 ],
 "metadata": {
  "kernelspec": {
   "display_name": "Python 3.9 (py39)",
   "language": "python",
   "name": "py39"
  },
  "language_info": {
   "codemirror_mode": {
    "name": "ipython",
    "version": 3
   },
   "file_extension": ".py",
   "mimetype": "text/x-python",
   "name": "python",
   "nbconvert_exporter": "python",
   "pygments_lexer": "ipython3",
   "version": "3.9.13"
  }
 },
 "nbformat": 4,
 "nbformat_minor": 5
}
